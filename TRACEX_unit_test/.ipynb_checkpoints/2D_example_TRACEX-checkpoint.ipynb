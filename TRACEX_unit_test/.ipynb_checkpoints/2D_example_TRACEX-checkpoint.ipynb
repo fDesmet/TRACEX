{
 "cells": [
  {
   "cell_type": "code",
   "execution_count": 1,
   "id": "posted-palestinian",
   "metadata": {},
   "outputs": [],
   "source": [
    "import matplotlib.pyplot as plt\n",
    "import numpy as np\n",
    "import xarray as xr\n",
    "import pickle"
   ]
  },
  {
   "cell_type": "code",
   "execution_count": 2,
   "id": "honey-portal",
   "metadata": {},
   "outputs": [],
   "source": [
    "your_path = '/Users/floradesmet/Documents/ETHz_flora/TRACEX/TRACEX_unit_test/'"
   ]
  },
  {
   "cell_type": "markdown",
   "id": "posted-glass",
   "metadata": {},
   "source": [
    "# Generate a test array"
   ]
  },
  {
   "cell_type": "code",
   "execution_count": 3,
   "id": "contrary-program",
   "metadata": {},
   "outputs": [],
   "source": [
    "array_test = np.zeros((8,70))\n",
    "\n",
    "'''\n",
    "Create 1st case: one upwelling event splits into 2 eddies\n",
    "'''\n",
    "event1 = np.zeros((8,10))\n",
    "event1[0,3:5] = 1\n",
    "event1[1:3,2:6] = 1\n",
    "event1[3:6,2] = 1\n",
    "event1[3:5,6] = 1\n",
    "event1[6:8,1] = 1\n",
    "event1[5:7,7] = 1\n",
    "\n",
    "'''\n",
    "Create 2nd case: two upwelling events merge after a cape into one filament \n",
    "'''\n",
    "event2 = np.zeros((8,11))\n",
    "event2[0,6:9] = 1\n",
    "event2[1,1:4] = 1\n",
    "event2[1,6:9] = 1\n",
    "event2[2,2:4] = 1\n",
    "event2[2,6:8] = 1\n",
    "event2[3,2:4] = 1\n",
    "event2[3,6:7] = 1\n",
    "event2[4,2:4] = 1\n",
    "event2[4,5:6] = 1\n",
    "event2[5,2:6] = 1\n",
    "event2[6,3:5] = 1\n",
    "event2[7,4:5] = 1\n",
    "\n",
    "'''\n",
    "Create 3rd case: two upwelling events merge after a cape into one \n",
    "filament with in addition one eddy emerging from one of the upwelling event\n",
    "'''\n",
    "event3 = np.zeros((8,13))\n",
    "event3[1,1:4] = 1\n",
    "event3[1,7:11] = 1\n",
    "event3[2,2:4] = 1\n",
    "event3[2,6:11] = 1\n",
    "event3[3,3] = 1\n",
    "event3[3,6] = 1\n",
    "event3[3,11] = 1\n",
    "event3[4,3] = 1\n",
    "event3[4,6] = 1\n",
    "event3[4,11] = 1\n",
    "event3[5,3:6] = 1\n",
    "event3[5,11] = 1\n",
    "event3[6,11] = 1\n",
    "\n",
    "'''\n",
    "Create 4th case: one large upwelling event and two small upwelling events merge as upwelling season \n",
    "advances with in addition one eddy emerging from the large upwelling event \n",
    "'''\n",
    "event4 = np.zeros((8,15))\n",
    "event4[1,2:4] = 1\n",
    "event4[2,1:5] = 1\n",
    "event4[2,8] = 1\n",
    "event4[2,11] = 1\n",
    "event4[3,1] = 1\n",
    "event4[3,4] = 1\n",
    "event4[3,7:9] = 1\n",
    "event4[3,11:13] = 1\n",
    "event4[4,1] = 1\n",
    "event4[4,4:6] = 1\n",
    "event4[4,7:9] = 1\n",
    "event4[4,10:12] = 1\n",
    "event4[5,1] = 1\n",
    "event4[5,4:9] = 1\n",
    "event4[5,10] = 1\n",
    "event4[6,1] = 1\n",
    "event4[6,4:11] = 1\n",
    "event4[7,1] = 1\n",
    "\n",
    "'''\n",
    "Create 5th case: two upwelling events merge after a cape into one \n",
    "filament but two independant eddy events in the next chunk emerge from one of the upwelling event\n",
    "'''\n",
    "event5 = np.zeros((8,17))\n",
    "event5[0,1:4] = 1\n",
    "event5[1,2:4] = 1\n",
    "event5[1,9:11] = 1\n",
    "event5[2:5,3] = 1\n",
    "event5[2,7:15] = 1\n",
    "event5[3:5,7] = 1\n",
    "event5[3:7,10] = 1\n",
    "event5[3:6,14] = 1\n",
    "event5[5,4:7] = 1\n",
    "\n",
    "'''\n",
    "Concatenate all five test cases\n",
    "'''\n",
    "array_test = np.concatenate((event1,event2),axis=1)\n",
    "array_test = np.concatenate((array_test,event3),axis=1)\n",
    "array_test = np.concatenate((array_test,event4),axis=1)\n",
    "array_test = np.concatenate((array_test,event5),axis=1)"
   ]
  },
  {
   "cell_type": "code",
   "execution_count": 5,
   "id": "divided-interface",
   "metadata": {},
   "outputs": [],
   "source": [
    "# write nc file\n",
    "ds = xr.Dataset(data_vars=dict(extremes=([\"time\", \"x\"], array_test)),\n",
    "                coords=dict(time=np.arange(0,8,1),x=np.arange(0,array_test.shape[1],1)),\n",
    "                attrs=dict(description=\"Boolean array with five events representing different scenarios\"))\n",
    "\n",
    "ds.to_netcdf(your_path +'/boolean_array_for_TRACEX_unit_test.nc')"
   ]
  },
  {
   "cell_type": "markdown",
   "id": "finite-gross",
   "metadata": {},
   "source": [
    "The test array gathers the following different test cases (from left to right in the plotted array):\n",
    "1. one upwelling event splits into 2 eddies\n",
    "2. two upwelling events merge after a cape into one filament \n",
    "3. two upwelling events merge after a cape into one filament with in addition one eddy emerging from one of the upwelling event\n",
    "4. one large upwelling event and two small upwelling events merge as upwelling season advances with in addition one eddy emerging from the large upwelling event \n",
    "5. two upwelling events merge after a cape into one filament but two independant eddy events in the next chunk emerge from one of the upwelling event"
   ]
  },
  {
   "cell_type": "code",
   "execution_count": 16,
   "id": "proper-compilation",
   "metadata": {},
   "outputs": [
    {
     "data": {
      "image/png": "[encoded data removed]",
      "text/plain": [
       "<Figure size 936x216 with 1 Axes>"
      ]
     },
     "metadata": {
      "needs_background": "light"
     },
     "output_type": "display_data"
    }
   ],
   "source": [
    "f,ax = plt.subplots(1,1,figsize=(13,3))\n",
    "ax.imshow(array_test, interpolation='none', cmap='gray')\n",
    "ax.hlines(3.5,-0.5,65.5,'red')\n",
    "ax.text(66, 2, 'Chunk 1',\n",
    "        verticalalignment='bottom', horizontalalignment='left',\n",
    "        color='red', fontsize=15)\n",
    "ax.text(66, 6, 'Chunk 2',\n",
    "        verticalalignment='bottom', horizontalalignment='left',\n",
    "        color='red', fontsize=15)\n",
    "ax.set_ylabel('Time [days]',fontsize=15)\n",
    "ax.set_xlabel('X-dimension',fontsize=15)\n",
    "plt.tick_params(labelsize=13)\n",
    "plt.yticks(np.arange(0,array_test.shape[0],1))\n",
    "plt.show()\n",
    "#f.savefig(your_path+'boolean_array_TRACEX_unit_test.png',dpi=300)"
   ]
  },
  {
   "cell_type": "markdown",
   "id": "looking-regression",
   "metadata": {},
   "source": [
    "The red line denotes the separation between chunk 1 and chunk 2 in the detection algorithm. Five different events that continues accross the two chunks are to be identified. "
   ]
  },
  {
   "cell_type": "markdown",
   "id": "designing-action",
   "metadata": {},
   "source": [
    "## Run TRACEX_unit_test.py onto this array"
   ]
  },
  {
   "cell_type": "markdown",
   "id": "cleared-newfoundland",
   "metadata": {},
   "source": [
    "# Step by step algorithm TRACEX_unit_test.py"
   ]
  },
  {
   "cell_type": "code",
   "execution_count": 4,
   "id": "dominant-incentive",
   "metadata": {},
   "outputs": [],
   "source": [
    "# Load the two output dictionnaries\n",
    "extremes = pickle.load(open(your_path+'output_TRACEX_unit_test/extreme_detection.pck','rb'),encoding='ascii')\n",
    "coords_extremes = pickle.load(open(your_path+'output_TRACEX_unit_test/extreme_detection_loc.pck','rb'),encoding='ascii')"
   ]
  },
  {
   "cell_type": "code",
   "execution_count": 5,
   "id": "fancy-investor",
   "metadata": {},
   "outputs": [],
   "source": [
    "# reconstruct the output array from the coordinates of the detected extreme events\n",
    "array_output = np.zeros((array_test.shape[0],array_test.shape[1]))\n",
    "for ev in extremes['ev_number']:\n",
    "    for t,x in zip(coords_extremes[str(ev)]['time'],coords_extremes[str(ev)]['s_rho']):\n",
    "        array_output[t,x] = ev"
   ]
  },
  {
   "cell_type": "code",
   "execution_count": 6,
   "id": "bulgarian-darkness",
   "metadata": {},
   "outputs": [],
   "source": [
    "array_output = np.where(array_output==0,np.nan,array_output)"
   ]
  },
  {
   "cell_type": "markdown",
   "id": "danish-wrong",
   "metadata": {},
   "source": [
    "Identification output array:"
   ]
  },
  {
   "cell_type": "code",
   "execution_count": 9,
   "id": "floppy-sending",
   "metadata": {},
   "outputs": [
    {
     "data": {
      "image/png": "[encoded data removed]",
      "text/plain": [
       "<Figure size 936x216 with 1 Axes>"
      ]
     },
     "metadata": {
      "needs_background": "light"
     },
     "output_type": "display_data"
    }
   ],
   "source": [
    "f = plt.figure(figsize=(13,3))\n",
    "plt.imshow(array_output, interpolation='nearest', cmap='tab10')\n",
    "plt.hlines(3.5,-0.5,65.5,'red')\n",
    "plt.text(66, 2, 'Chunk 1',\n",
    "        verticalalignment='bottom', horizontalalignment='left',\n",
    "        color='red', fontsize=15)\n",
    "plt.text(66, 6, 'Chunk 2',\n",
    "        verticalalignment='bottom', horizontalalignment='left',\n",
    "        color='red', fontsize=15)\n",
    "plt.ylabel('Time [days]',fontsize=15)\n",
    "plt.xlabel('X-dimension',fontsize=15)\n",
    "plt.tick_params(labelsize=13)\n",
    "plt.yticks(np.arange(0,array_test.shape[0],1))\n",
    "plt.show()\n",
    "f.savefig(your_path+'identified_extremes_TRACEX_unit_test.png',dpi=300)\n",
    "f.savefig(your_path+'identified_extremes_TRACEX_unit_test.pdf',dpi=300)"
   ]
  },
  {
   "cell_type": "markdown",
   "id": "multiple-finder",
   "metadata": {},
   "source": [
    "The five different events have been properly detected. The different types of merging happend as expected. "
   ]
  },
  {
   "cell_type": "markdown",
   "id": "drawn-circle",
   "metadata": {},
   "source": [
    "# Let's see how the algorithm works step by step"
   ]
  },
  {
   "cell_type": "markdown",
   "id": "regulation-corporation",
   "metadata": {},
   "source": [
    "## First step: identification of coherent blobs in the first chunk (first four days)"
   ]
  },
  {
   "cell_type": "code",
   "execution_count": 9,
   "id": "dependent-cheat",
   "metadata": {},
   "outputs": [],
   "source": [
    "data_ini = xr.open_dataset(your_path+'output_TRACEX_unit_test/events_chunk_1_for_TRACEX_unit_test.nc').events.values\n",
    "data_ini = np.where(data_ini==0,np.nan,data_ini)"
   ]
  },
  {
   "cell_type": "code",
   "execution_count": 10,
   "id": "nervous-freedom",
   "metadata": {},
   "outputs": [
    {
     "data": {
      "image/png": "[encoded data removed]",
      "text/plain": [
       "<Figure size 1080x432 with 1 Axes>"
      ]
     },
     "metadata": {
      "needs_background": "light"
     },
     "output_type": "display_data"
    }
   ],
   "source": [
    "f = plt.figure(figsize=(15,6))\n",
    "plt.imshow(data_ini, interpolation='none', cmap='tab10')\n",
    "plt.hlines(3.5,-0.5,65.5,'red')\n",
    "plt.ylabel('Time [days]',fontsize=15)\n",
    "plt.xlabel('X-dimension',fontsize=15)\n",
    "plt.tick_params(labelsize=13)\n",
    "plt.yticks(np.arange(0,array_test.shape[0]/2,1))\n",
    "plt.show()"
   ]
  },
  {
   "cell_type": "markdown",
   "id": "martial-ottawa",
   "metadata": {},
   "source": [
    "10 independent events were detected in the first chunk"
   ]
  },
  {
   "cell_type": "code",
   "execution_count": 80,
   "id": "complex-fireplace",
   "metadata": {},
   "outputs": [
    {
     "name": "stdout",
     "output_type": "stream",
     "text": [
      "Minimum event number is 1 and maximum is 10\n"
     ]
    }
   ],
   "source": [
    "print('Minimum event number is {} and maximum is {}'.format(int(np.nanmin(data_ini)),int(np.nanmax(data_ini))))"
   ]
  },
  {
   "cell_type": "markdown",
   "id": "published-strain",
   "metadata": {},
   "source": [
    "## Second step: identification of coherent blobs in the {second chunk + last time slice of previous chunk} (5 days)"
   ]
  },
  {
   "cell_type": "code",
   "execution_count": 12,
   "id": "italian-boundary",
   "metadata": {},
   "outputs": [
    {
     "name": "stdout",
     "output_type": "stream",
     "text": [
      "Event numbers are: [ 1  2  3  4  5  6  7  8  9 10]\n"
     ]
    }
   ],
   "source": [
    "data = xr.open_dataset(your_path+'/output_TRACEX_unit_test/events_chunk_2_raw_TRACEX_unit_test.nc').events.values\n",
    "print('Event numbers are: {}'.format(np.unique(data)[np.unique(data)>0]))\n",
    "data = np.where(data==0,np.nan,data)"
   ]
  },
  {
   "cell_type": "code",
   "execution_count": 13,
   "id": "abroad-champion",
   "metadata": {},
   "outputs": [
    {
     "data": {
      "image/png": "[encoded data removed]",
      "text/plain": [
       "<Figure size 1080x432 with 1 Axes>"
      ]
     },
     "metadata": {
      "needs_background": "light"
     },
     "output_type": "display_data"
    }
   ],
   "source": [
    "f = plt.figure(figsize=(15,6))\n",
    "plt.imshow(data, interpolation='none', cmap='tab10')\n",
    "plt.hlines(0.5,-0.5,65.5,'red')\n",
    "plt.ylabel('Time [days]',fontsize=15)\n",
    "plt.xlabel('X-dimension',fontsize=15)\n",
    "plt.tick_params(labelsize=13)\n",
    "plt.yticks(ticks=np.arange(0,array_test.shape[0]/2+1,1),labels=np.arange(array_test.shape[0]/2-1,array_test.shape[0],1).astype('int'))\n",
    "plt.show()"
   ]
  },
  {
   "cell_type": "markdown",
   "id": "aware-minneapolis",
   "metadata": {},
   "source": [
    "10 events were also detected in the {second chunk + last time slice of the previous chunk}."
   ]
  },
  {
   "cell_type": "code",
   "execution_count": 64,
   "id": "preliminary-israel",
   "metadata": {},
   "outputs": [
    {
     "name": "stdout",
     "output_type": "stream",
     "text": [
      "Minimum event number is 1 and maximum is 10\n"
     ]
    }
   ],
   "source": [
    "print('Minimum event number is {} and maximum is {}'.format(int(np.nanmin(data)),int(np.nanmax(data))))"
   ]
  },
  {
   "cell_type": "markdown",
   "id": "optional-surface",
   "metadata": {},
   "source": [
    "## Third step: addition the maximum event number in the previous chunk (here 10) to the event numbers of the new chunk"
   ]
  },
  {
   "cell_type": "code",
   "execution_count": 14,
   "id": "involved-meditation",
   "metadata": {},
   "outputs": [
    {
     "name": "stdout",
     "output_type": "stream",
     "text": [
      "Event numbers are: [11 12 13 14 15 16 17 18 19 20]\n"
     ]
    }
   ],
   "source": [
    "data = xr.open_dataset(your_path+'/output_TRACEX_unit_test/events_chunk_2_added_numbers_for_TRACEX_unit_test.nc').events.values\n",
    "print('Event numbers are: {}'.format(np.unique(data)[np.unique(data)>0]))\n",
    "data = np.where(data==0,np.nan,data)"
   ]
  },
  {
   "cell_type": "code",
   "execution_count": 15,
   "id": "inside-malaysia",
   "metadata": {},
   "outputs": [
    {
     "data": {
      "image/png": "[encoded data removed]",
      "text/plain": [
       "<Figure size 1080x432 with 1 Axes>"
      ]
     },
     "metadata": {
      "needs_background": "light"
     },
     "output_type": "display_data"
    }
   ],
   "source": [
    "f = plt.figure(figsize=(15,6))\n",
    "plt.imshow(data, interpolation='none', cmap='tab10')\n",
    "plt.hlines(0.5,-0.5,65.5,'red')\n",
    "plt.ylabel('Time [days]',fontsize=15)\n",
    "plt.xlabel('X-dimension',fontsize=15)\n",
    "plt.tick_params(labelsize=13)\n",
    "plt.yticks(ticks=np.arange(0,array_test.shape[0]/2+1,1),labels=np.arange(array_test.shape[0]/2-1,array_test.shape[0],1).astype('int'))\n",
    "plt.show()"
   ]
  },
  {
   "cell_type": "code",
   "execution_count": 61,
   "id": "coordinated-nowhere",
   "metadata": {},
   "outputs": [
    {
     "name": "stdout",
     "output_type": "stream",
     "text": [
      "Minimum event number is 11 and maximum is 20\n"
     ]
    }
   ],
   "source": [
    "print('Minimum event number is {} and maximum is {}'.format(int(np.nanmin(data)),int(np.nanmax(data))))"
   ]
  },
  {
   "cell_type": "markdown",
   "id": "earned-swiss",
   "metadata": {},
   "source": [
    "That way events detected previously in chunk 1 can be distinguish from events newly detected in chunk 2. "
   ]
  },
  {
   "cell_type": "markdown",
   "id": "center-hamilton",
   "metadata": {},
   "source": [
    "##  Fourth step: start the merging: addition of coordinates of extremes continuing in the second chunk to the already detected evens in the first chunk if connected in the {second chunk + last time slice of previous chunk} "
   ]
  },
  {
   "cell_type": "code",
   "execution_count": 16,
   "id": "retained-quantum",
   "metadata": {},
   "outputs": [
    {
     "name": "stdout",
     "output_type": "stream",
     "text": [
      "Event numbers are: [ 1 12 13 14 15 16 17 18 19 20]\n"
     ]
    }
   ],
   "source": [
    "data = xr.open_dataset(your_path+'/output_TRACEX_unit_test/events_chunk_2_loop_log_1_for_TRACEX_unit_test.nc').events.values\n",
    "print('Event numbers are: {}'.format(np.unique(data)[np.unique(data)>0]))\n",
    "data = np.where(data==0,np.nan,data)"
   ]
  },
  {
   "cell_type": "code",
   "execution_count": 17,
   "id": "mysterious-assets",
   "metadata": {},
   "outputs": [
    {
     "data": {
      "image/png": "[encoded data removed]",
      "text/plain": [
       "<Figure size 1080x432 with 1 Axes>"
      ]
     },
     "metadata": {
      "needs_background": "light"
     },
     "output_type": "display_data"
    }
   ],
   "source": [
    "f = plt.figure(figsize=(15,6))\n",
    "plt.imshow(data, interpolation='none', cmap='tab10')\n",
    "plt.hlines(-0.4,-0.5,65.5,'red')\n",
    "plt.ylabel('Time [days]',fontsize=15)\n",
    "plt.xlabel('X-dimension',fontsize=15)\n",
    "plt.tick_params(labelsize=13)\n",
    "plt.yticks(ticks=np.arange(0,array_test.shape[0]/2,1),labels=np.arange(array_test.shape[0]/2,array_test.shape[0],1).astype('int'))\n",
    "plt.show()"
   ]
  },
  {
   "cell_type": "markdown",
   "id": "conservative-taiwan",
   "metadata": {},
   "source": [
    "The event number 11 in the second chunk has been detected as connected to event number 1 in the previous chunk so the event number 11 in the array of the second chunk has been replaced by 1 and the characteristics of event 1 have been changes accordingly (longer duration for instance). "
   ]
  },
  {
   "cell_type": "markdown",
   "id": "tight-boost",
   "metadata": {},
   "source": [
    "##  Fifth step: "
   ]
  },
  {
   "cell_type": "code",
   "execution_count": 18,
   "id": "historic-shark",
   "metadata": {},
   "outputs": [
    {
     "name": "stdout",
     "output_type": "stream",
     "text": [
      "Event numbers are: [ 1 13 14 15 16 17 18 19 20]\n"
     ]
    }
   ],
   "source": [
    "data = xr.open_dataset(your_path+'/output_TRACEX_unit_test/events_chunk_2_loop_log_2_for_TRACEX_unit_test.nc').events.values\n",
    "print('Event numbers are: {}'.format(np.unique(data)[np.unique(data)>0]))\n",
    "data = np.where(data==0,np.nan,data)"
   ]
  },
  {
   "cell_type": "code",
   "execution_count": 19,
   "id": "under-easter",
   "metadata": {},
   "outputs": [
    {
     "data": {
      "image/png": "[encoded data removed]",
      "text/plain": [
       "<Figure size 1080x432 with 1 Axes>"
      ]
     },
     "metadata": {
      "needs_background": "light"
     },
     "output_type": "display_data"
    }
   ],
   "source": [
    "f = plt.figure(figsize=(15,6))\n",
    "plt.imshow(data, interpolation='none', cmap='tab10')\n",
    "plt.hlines(-0.4,-0.5,65.5,'red')\n",
    "plt.ylabel('Time [days]',fontsize=15)\n",
    "plt.xlabel('X-dimension',fontsize=15)\n",
    "plt.tick_params(labelsize=13)\n",
    "plt.yticks(ticks=np.arange(0,array_test.shape[0]/2,1),labels=np.arange(array_test.shape[0]/2,array_test.shape[0],1).astype('int'))\n",
    "plt.show()"
   ]
  },
  {
   "cell_type": "markdown",
   "id": "working-times",
   "metadata": {},
   "source": [
    "The event number 12 in the second chunk has also been detected as connected to event number 1 in the previous chunk so the event number 12 in the array of the second chunk has been replaced by 1 and the characteristics of event 1 have been changes accordingly (larger spatial extent for instance but not longer duration as the event previously numbered 11 lasts longer than the 12 thus the duration of event 1 is already longer than with the addition of event 12). "
   ]
  },
  {
   "cell_type": "markdown",
   "id": "worldwide-drawing",
   "metadata": {},
   "source": [
    "##  Sixth step: merging of independent extremes in previous chunk as they connect in the second chunk. "
   ]
  },
  {
   "cell_type": "code",
   "execution_count": 20,
   "id": "peaceful-arcade",
   "metadata": {},
   "outputs": [
    {
     "name": "stdout",
     "output_type": "stream",
     "text": [
      "Event numbers are: [ 1  2  3  5  6  7  8  9 10]\n",
      "Last time step in chunk 1: \n",
      "[nan nan  1. nan nan nan  1. nan nan nan nan nan  4.  4. nan nan  2. nan\n",
      " nan nan nan nan nan nan  5. nan nan  6. nan nan nan nan  6. nan nan  7.\n",
      " nan nan  7. nan nan  9.  9. nan nan 10. 10. nan nan nan nan nan  3. nan\n",
      " nan nan  8. nan nan  8. nan nan nan  8. nan nan]\n",
      "Last time step of chunk 1 in the array used for the second chunk: \n",
      "[nan nan  1. nan nan nan  1. nan nan nan nan nan  2.  2. nan nan  2. nan\n",
      " nan nan nan nan nan nan  5. nan nan  6. nan nan nan nan  6. nan nan  7.\n",
      " nan nan  7. nan nan  9.  9. nan nan 10. 10. nan nan nan nan nan  3. nan\n",
      " nan nan  8. nan nan  8. nan nan nan  8. nan nan]\n"
     ]
    }
   ],
   "source": [
    "data = xr.open_dataset(your_path+'/output_TRACEX_unit_test/events_chunk_2_loop_log_3_for_TRACEX_unit_test.nc').events.values\n",
    "print('Event numbers are: {}'.format(np.unique(data)[np.unique(data)>0]))\n",
    "print('Last time step in chunk 1: \\n{}'.format(data_ini[-1]))\n",
    "data = np.where(data==0,np.nan,data)\n",
    "print('Last time step of chunk 1 in the array used for the second chunk: \\n{}'.format(data))"
   ]
  },
  {
   "cell_type": "markdown",
   "id": "native-wagner",
   "metadata": {},
   "source": [
    "The event number 4 of the first chunk has been merged to event number 2 and is now labelled as event 2 in the last time step of chunk 1 used for the second chunk. Event 4 does not exist anymore, everything touching the old event 4 will be forwarded to event 2 as of now and characteristics of events 2 and 4 from the first chunk have been merged.  "
   ]
  },
  {
   "cell_type": "markdown",
   "id": "promising-keyboard",
   "metadata": {},
   "source": [
    "##  Seventh step: "
   ]
  },
  {
   "cell_type": "code",
   "execution_count": 21,
   "id": "disciplinary-display",
   "metadata": {},
   "outputs": [
    {
     "name": "stdout",
     "output_type": "stream",
     "text": [
      "Event numbers are: [ 1  2 14 15 16 17 18 19 20]\n"
     ]
    }
   ],
   "source": [
    "data = xr.open_dataset(your_path+'/output_TRACEX_unit_test/events_chunk_2_loop_log_4_for_TRACEX_unit_test.nc').events.values\n",
    "print('Event numbers are: {}'.format(np.unique(data)[np.unique(data)>0]))\n",
    "data = np.where(data==0,np.nan,data)"
   ]
  },
  {
   "cell_type": "code",
   "execution_count": 84,
   "id": "ethical-classic",
   "metadata": {},
   "outputs": [
    {
     "data": {
      "image/png": "[encoded data removed]",
      "text/plain": [
       "<Figure size 1080x432 with 1 Axes>"
      ]
     },
     "metadata": {
      "needs_background": "light"
     },
     "output_type": "display_data"
    }
   ],
   "source": [
    "f = plt.figure(figsize=(15,6))\n",
    "plt.imshow(data, interpolation='none', cmap='tab10')\n",
    "plt.hlines(-0.4,-0.5,65.5,'red')\n",
    "plt.ylabel('Time [days]',fontsize=15)\n",
    "plt.xlabel('X-dimension',fontsize=15)\n",
    "plt.tick_params(labelsize=13)\n",
    "plt.yticks(ticks=np.arange(0,array_test.shape[0]/2,1),labels=np.arange(array_test.shape[0]/2,array_test.shape[0],1).astype('int'))\n",
    "plt.show()"
   ]
  },
  {
   "cell_type": "markdown",
   "id": "bridal-brave",
   "metadata": {},
   "source": [
    "Event 13 in chunk 2 which was the connection between events 2 and 4 of the first chunk has been added to event 2. "
   ]
  },
  {
   "cell_type": "markdown",
   "id": "parliamentary-liberty",
   "metadata": {},
   "source": [
    "##  Eighth step: "
   ]
  },
  {
   "cell_type": "code",
   "execution_count": 22,
   "id": "shaped-display",
   "metadata": {},
   "outputs": [
    {
     "name": "stdout",
     "output_type": "stream",
     "text": [
      "Event numbers are: [ 1  2  3  5  7  8  9 10]\n",
      "Last time step in chunk 1: \n",
      "[nan nan  1. nan nan nan  1. nan nan nan nan nan  4.  4. nan nan  2. nan\n",
      " nan nan nan nan nan nan  5. nan nan  6. nan nan nan nan  6. nan nan  7.\n",
      " nan nan  7. nan nan  9.  9. nan nan 10. 10. nan nan nan nan nan  3. nan\n",
      " nan nan  8. nan nan  8. nan nan nan  8. nan nan]\n",
      "Last time step of chunk 1 in the array used for the second chunk: \n",
      "[nan nan  1. nan nan nan  1. nan nan nan nan nan  2.  2. nan nan  2. nan\n",
      " nan nan nan nan nan nan  5. nan nan  5. nan nan nan nan  5. nan nan  7.\n",
      " nan nan  7. nan nan  9.  9. nan nan 10. 10. nan nan nan nan nan  3. nan\n",
      " nan nan  8. nan nan  8. nan nan nan  8. nan nan]\n"
     ]
    }
   ],
   "source": [
    "data = xr.open_dataset(your_path+'/output_TRACEX_unit_test/events_chunk_2_loop_log_5_for_TRACEX_unit_test.nc').events.values\n",
    "print('Event numbers are: {}'.format(np.unique(data)[np.unique(data)>0]))\n",
    "print('Last time step in chunk 1: \\n{}'.format(data_ini[-1]))\n",
    "data = np.where(data==0,np.nan,data)\n",
    "print('Last time step of chunk 1 in the array used for the second chunk: \\n{}'.format(data))"
   ]
  },
  {
   "cell_type": "markdown",
   "id": "assured-destruction",
   "metadata": {},
   "source": [
    "The event number 6 of the first chunk has been merged to event number 5 and is now labelled as event 5 in the last time step of chunk 1 used for the second chunk. Event 6 does not exist anymore, everything touching the old event 6 will be forwarded to event 5 as of now and characteristics of events 5 and 6 from the first chunk have been merged."
   ]
  },
  {
   "cell_type": "markdown",
   "id": "robust-aruba",
   "metadata": {},
   "source": [
    "##  Ninth step: "
   ]
  },
  {
   "cell_type": "code",
   "execution_count": 23,
   "id": "wireless-opportunity",
   "metadata": {},
   "outputs": [
    {
     "name": "stdout",
     "output_type": "stream",
     "text": [
      "Event numbers are: [ 1  2  5 15 16 17 18 19 20]\n"
     ]
    }
   ],
   "source": [
    "data = xr.open_dataset(your_path+'/output_TRACEX_unit_test/events_chunk_2_loop_log_6_for_TRACEX_unit_test.nc').events.values\n",
    "print('Event numbers are: {}'.format(np.unique(data)[np.unique(data)>0]))\n",
    "data = np.where(data==0,np.nan,data)"
   ]
  },
  {
   "cell_type": "code",
   "execution_count": 88,
   "id": "amino-helena",
   "metadata": {},
   "outputs": [
    {
     "data": {
      "image/png": "[encoded data removed]",
      "text/plain": [
       "<Figure size 1080x432 with 1 Axes>"
      ]
     },
     "metadata": {
      "needs_background": "light"
     },
     "output_type": "display_data"
    }
   ],
   "source": [
    "f = plt.figure(figsize=(15,6))\n",
    "plt.imshow(data, interpolation='none', cmap='tab10')\n",
    "plt.hlines(-0.4,-0.5,65.5,'red')\n",
    "plt.ylabel('Time [days]',fontsize=15)\n",
    "plt.xlabel('X-dimension',fontsize=15)\n",
    "plt.tick_params(labelsize=13)\n",
    "plt.yticks(ticks=np.arange(0,array_test.shape[0]/2,1),labels=np.arange(array_test.shape[0]/2,array_test.shape[0],1).astype('int'))\n",
    "plt.show()"
   ]
  },
  {
   "cell_type": "markdown",
   "id": "initial-posting",
   "metadata": {},
   "source": [
    "Event 14 has been added to event 5. "
   ]
  },
  {
   "cell_type": "markdown",
   "id": "sized-baseline",
   "metadata": {},
   "source": [
    "##  Tenth step: "
   ]
  },
  {
   "cell_type": "code",
   "execution_count": 24,
   "id": "prerequisite-california",
   "metadata": {},
   "outputs": [
    {
     "name": "stdout",
     "output_type": "stream",
     "text": [
      "Event numbers are: [ 1  2  5 16 17 18 19 20]\n"
     ]
    }
   ],
   "source": [
    "data = xr.open_dataset(your_path+'/output_TRACEX_unit_test/events_chunk_2_loop_log_7_for_TRACEX_unit_test.nc').events.values\n",
    "print('Event numbers are: {}'.format(np.unique(data)[np.unique(data)>0]))\n",
    "data = np.where(data==0,np.nan,data)"
   ]
  },
  {
   "cell_type": "code",
   "execution_count": 25,
   "id": "streaming-roommate",
   "metadata": {},
   "outputs": [
    {
     "data": {
      "image/png": "[encoded data removed]",
      "text/plain": [
       "<Figure size 1080x432 with 1 Axes>"
      ]
     },
     "metadata": {
      "needs_background": "light"
     },
     "output_type": "display_data"
    }
   ],
   "source": [
    "f = plt.figure(figsize=(15,6))\n",
    "plt.imshow(data, interpolation='none', cmap='tab10')\n",
    "plt.hlines(-0.4,-0.5,65.5,'red')\n",
    "plt.ylabel('Time [days]',fontsize=15)\n",
    "plt.xlabel('X-dimension',fontsize=15)\n",
    "plt.tick_params(labelsize=13)\n",
    "plt.yticks(ticks=np.arange(0,array_test.shape[0]/2,1),labels=np.arange(array_test.shape[0]/2,array_test.shape[0],1).astype('int'))\n",
    "plt.show()"
   ]
  },
  {
   "cell_type": "markdown",
   "id": "oriental-community",
   "metadata": {},
   "source": [
    "Event 15 that was only linked to event 6 in the detection of chunk 2 has been added to event 5 as the forwarding has been successfully done. "
   ]
  },
  {
   "cell_type": "markdown",
   "id": "greek-bibliography",
   "metadata": {},
   "source": [
    "##  Eleventh step: "
   ]
  },
  {
   "cell_type": "code",
   "execution_count": 26,
   "id": "frank-outdoors",
   "metadata": {},
   "outputs": [
    {
     "name": "stdout",
     "output_type": "stream",
     "text": [
      "Event numbers are: [ 1  2  5  7 17 18 19 20]\n"
     ]
    }
   ],
   "source": [
    "data = xr.open_dataset(your_path+'/output_TRACEX_unit_test/events_chunk_2_loop_log_8_for_TRACEX_unit_test.nc').events.values\n",
    "print('Event numbers are: {}'.format(np.unique(data)[np.unique(data)>0]))\n",
    "data = np.where(data==0,np.nan,data)"
   ]
  },
  {
   "cell_type": "code",
   "execution_count": 27,
   "id": "tropical-uniform",
   "metadata": {},
   "outputs": [
    {
     "data": {
      "image/png": "[encoded data removed]",
      "text/plain": [
       "<Figure size 1080x432 with 1 Axes>"
      ]
     },
     "metadata": {
      "needs_background": "light"
     },
     "output_type": "display_data"
    }
   ],
   "source": [
    "f = plt.figure(figsize=(15,6))\n",
    "plt.imshow(data, interpolation='none', cmap='tab10')\n",
    "plt.hlines(-0.4,-0.5,65.5,'red')\n",
    "plt.ylabel('Time [days]',fontsize=15)\n",
    "plt.xlabel('X-dimension',fontsize=15)\n",
    "plt.tick_params(labelsize=13)\n",
    "plt.yticks(ticks=np.arange(0,array_test.shape[0]/2,1),labels=np.arange(array_test.shape[0]/2,array_test.shape[0],1).astype('int'))\n",
    "plt.show()"
   ]
  },
  {
   "cell_type": "markdown",
   "id": "individual-terrorist",
   "metadata": {},
   "source": [
    "Event 16 has been added to event 7. "
   ]
  },
  {
   "cell_type": "markdown",
   "id": "banner-collection",
   "metadata": {},
   "source": [
    "##  Twelfth step: "
   ]
  },
  {
   "cell_type": "code",
   "execution_count": 28,
   "id": "excited-parent",
   "metadata": {},
   "outputs": [
    {
     "name": "stdout",
     "output_type": "stream",
     "text": [
      "Event numbers are: [ 1  2  3  5  7  8 10]\n",
      "Last time step in chunk 1: \n",
      "[nan nan  1. nan nan nan  1. nan nan nan nan nan  4.  4. nan nan  2. nan\n",
      " nan nan nan nan nan nan  5. nan nan  6. nan nan nan nan  6. nan nan  7.\n",
      " nan nan  7. nan nan  9.  9. nan nan 10. 10. nan nan nan nan nan  3. nan\n",
      " nan nan  8. nan nan  8. nan nan nan  8. nan nan]\n",
      "Last time step of chunk 1 in the array used for the second chunk: \n",
      "[nan nan  1. nan nan nan  1. nan nan nan nan nan  2.  2. nan nan  2. nan\n",
      " nan nan nan nan nan nan  5. nan nan  5. nan nan nan nan  5. nan nan  7.\n",
      " nan nan  7. nan nan  7.  7. nan nan 10. 10. nan nan nan nan nan  3. nan\n",
      " nan nan  8. nan nan  8. nan nan nan  8. nan nan]\n"
     ]
    }
   ],
   "source": [
    "data = xr.open_dataset(your_path+'/output_TRACEX_unit_test/events_chunk_2_loop_log_9_for_TRACEX_unit_test.nc').events.values\n",
    "print('Event numbers are: {}'.format(np.unique(data)[np.unique(data)>0]))\n",
    "print('Last time step in chunk 1: \\n{}'.format(data_ini[-1]))\n",
    "data = np.where(data==0,np.nan,data)\n",
    "print('Last time step of chunk 1 in the array used for the second chunk: \\n{}'.format(data))"
   ]
  },
  {
   "cell_type": "markdown",
   "id": "arbitrary-ordinance",
   "metadata": {},
   "source": [
    "The event number 9 of the first chunk has been merged to event number 7 and is now labelled as event 7 in the last time step of chunk 1 used for the second chunk. Event 9 does not exist anymore, everything touching the old event 9 will be forwarded to event 7 as of now and characteristics of events 9 and 7 from the first chunk have been merged. "
   ]
  },
  {
   "cell_type": "markdown",
   "id": "damaged-foundation",
   "metadata": {},
   "source": [
    "##  Thirteenth step: "
   ]
  },
  {
   "cell_type": "code",
   "execution_count": 29,
   "id": "generous-thong",
   "metadata": {},
   "outputs": [
    {
     "name": "stdout",
     "output_type": "stream",
     "text": [
      "Event numbers are: [1 2 3 5 7 8]\n",
      "Last time step in chunk 1: \n",
      "[nan nan  1. nan nan nan  1. nan nan nan nan nan  4.  4. nan nan  2. nan\n",
      " nan nan nan nan nan nan  5. nan nan  6. nan nan nan nan  6. nan nan  7.\n",
      " nan nan  7. nan nan  9.  9. nan nan 10. 10. nan nan nan nan nan  3. nan\n",
      " nan nan  8. nan nan  8. nan nan nan  8. nan nan]\n",
      "Last time step of chunk 1 in the array used for the second chunk: \n",
      "[nan nan  1. nan nan nan  1. nan nan nan nan nan  2.  2. nan nan  2. nan\n",
      " nan nan nan nan nan nan  5. nan nan  5. nan nan nan nan  5. nan nan  7.\n",
      " nan nan  7. nan nan  7.  7. nan nan  7.  7. nan nan nan nan nan  3. nan\n",
      " nan nan  8. nan nan  8. nan nan nan  8. nan nan]\n"
     ]
    }
   ],
   "source": [
    "data = xr.open_dataset(your_path+'/output_TRACEX_unit_test/events_chunk_2_loop_log_10_for_TRACEX_unit_test.nc').events.values\n",
    "print('Event numbers are: {}'.format(np.unique(data)[np.unique(data)>0]))\n",
    "print('Last time step in chunk 1: \\n{}'.format(data_ini[-1]))\n",
    "data = np.where(data==0,np.nan,data)\n",
    "print('Last time step of chunk 1 in the array used for the second chunk: \\n{}'.format(data))"
   ]
  },
  {
   "cell_type": "markdown",
   "id": "posted-poland",
   "metadata": {},
   "source": [
    "The event number 10 of the first chunk has been merged to event number 7 and is now labelled as event 7 in the last time step of chunk 1 used for the second chunk. Event 10 does not exist anymore, everything touching the old event 10 will be forwarded to event 7 as of now and characteristics of events 10 and 7 from the first chunk have been merged."
   ]
  },
  {
   "cell_type": "markdown",
   "id": "english-newton",
   "metadata": {},
   "source": [
    "##  Fourteenth step: "
   ]
  },
  {
   "cell_type": "code",
   "execution_count": 30,
   "id": "mexican-creation",
   "metadata": {},
   "outputs": [
    {
     "name": "stdout",
     "output_type": "stream",
     "text": [
      "Event numbers are: [ 1  2  5  7 18 19 20]\n"
     ]
    }
   ],
   "source": [
    "data = xr.open_dataset(your_path+'/output_TRACEX_unit_test/events_chunk_2_loop_log_11_for_TRACEX_unit_test.nc').events.values\n",
    "print('Event numbers are: {}'.format(np.unique(data)[np.unique(data)>0]))\n",
    "data = np.where(data==0,np.nan,data)"
   ]
  },
  {
   "cell_type": "code",
   "execution_count": 31,
   "id": "perceived-melbourne",
   "metadata": {},
   "outputs": [
    {
     "data": {
      "image/png": "[encoded data removed]",
      "text/plain": [
       "<Figure size 1080x432 with 1 Axes>"
      ]
     },
     "metadata": {
      "needs_background": "light"
     },
     "output_type": "display_data"
    }
   ],
   "source": [
    "f = plt.figure(figsize=(15,6))\n",
    "plt.imshow(data, interpolation='none', cmap='tab10')\n",
    "plt.hlines(-0.4,-0.5,65.5,'red')\n",
    "plt.ylabel('Time [days]',fontsize=15)\n",
    "plt.xlabel('X-dimension',fontsize=15)\n",
    "plt.tick_params(labelsize=13)\n",
    "plt.yticks(ticks=np.arange(0,array_test.shape[0]/2,1),labels=np.arange(array_test.shape[0]/2,array_test.shape[0],1).astype('int'))\n",
    "plt.show()"
   ]
  },
  {
   "cell_type": "markdown",
   "id": "sophisticated-douglas",
   "metadata": {},
   "source": [
    "Event 17 has been merged to 7 as it was the link between 7 and old 9,10."
   ]
  },
  {
   "cell_type": "markdown",
   "id": "driving-christopher",
   "metadata": {},
   "source": [
    "##  Fifteenth step: "
   ]
  },
  {
   "cell_type": "code",
   "execution_count": 32,
   "id": "emerging-firmware",
   "metadata": {},
   "outputs": [
    {
     "name": "stdout",
     "output_type": "stream",
     "text": [
      "Event numbers are: [1 2 3 5 7]\n",
      "Last time step in chunk 1: \n",
      "[nan nan  1. nan nan nan  1. nan nan nan nan nan  4.  4. nan nan  2. nan\n",
      " nan nan nan nan nan nan  5. nan nan  6. nan nan nan nan  6. nan nan  7.\n",
      " nan nan  7. nan nan  9.  9. nan nan 10. 10. nan nan nan nan nan  3. nan\n",
      " nan nan  8. nan nan  8. nan nan nan  8. nan nan]\n",
      "Last time step of chunk 1 in the array used for the second chunk: \n",
      "[nan nan  1. nan nan nan  1. nan nan nan nan nan  2.  2. nan nan  2. nan\n",
      " nan nan nan nan nan nan  5. nan nan  5. nan nan nan nan  5. nan nan  7.\n",
      " nan nan  7. nan nan  7.  7. nan nan  7.  7. nan nan nan nan nan  3. nan\n",
      " nan nan  3. nan nan  3. nan nan nan  3. nan nan]\n"
     ]
    }
   ],
   "source": [
    "data = xr.open_dataset(your_path+'/output_TRACEX_unit_test/events_chunk_2_loop_log_12_for_TRACEX_unit_test.nc').events.values\n",
    "print('Event numbers are: {}'.format(np.unique(data)[np.unique(data)>0]))\n",
    "print('Last time step in chunk 1: \\n{}'.format(data_ini[-1]))\n",
    "data = np.where(data==0,np.nan,data)\n",
    "print('Last time step of chunk 1 in the array used for the second chunk: \\n{}'.format(data))"
   ]
  },
  {
   "cell_type": "markdown",
   "id": "japanese-stick",
   "metadata": {},
   "source": [
    "Event 8 from the first chunk has been merged into event 3 as they are now connected by event 18 of the second chunk. Event 8 does not exist anymore and it has been labeled 3. "
   ]
  },
  {
   "cell_type": "markdown",
   "id": "successful-vault",
   "metadata": {},
   "source": [
    "##  Sixteenth step: "
   ]
  },
  {
   "cell_type": "code",
   "execution_count": 33,
   "id": "center-verse",
   "metadata": {},
   "outputs": [
    {
     "name": "stdout",
     "output_type": "stream",
     "text": [
      "Event numbers are: [ 1  2  3  5  7 19 20]\n"
     ]
    }
   ],
   "source": [
    "data = xr.open_dataset(your_path+'/output_TRACEX_unit_test/events_chunk_2_loop_log_13_for_TRACEX_unit_test.nc').events.values\n",
    "print('Event numbers are: {}'.format(np.unique(data)[np.unique(data)>0]))\n",
    "data = np.where(data==0,np.nan,data)"
   ]
  },
  {
   "cell_type": "code",
   "execution_count": 34,
   "id": "binding-funeral",
   "metadata": {},
   "outputs": [
    {
     "data": {
      "image/png": "[encoded data removed]",
      "text/plain": [
       "<Figure size 1080x432 with 1 Axes>"
      ]
     },
     "metadata": {
      "needs_background": "light"
     },
     "output_type": "display_data"
    }
   ],
   "source": [
    "f = plt.figure(figsize=(15,6))\n",
    "plt.imshow(data, interpolation='none', cmap='tab10')\n",
    "plt.hlines(-0.4,-0.5,65.5,'red')\n",
    "plt.ylabel('Time [days]',fontsize=15)\n",
    "plt.xlabel('X-dimension',fontsize=15)\n",
    "plt.tick_params(labelsize=13)\n",
    "plt.yticks(ticks=np.arange(0,array_test.shape[0]/2,1),labels=np.arange(array_test.shape[0]/2,array_test.shape[0],1).astype('int'))\n",
    "plt.show()"
   ]
  },
  {
   "cell_type": "markdown",
   "id": "responsible-march",
   "metadata": {},
   "source": [
    "Event 18 has been added to 3"
   ]
  },
  {
   "cell_type": "markdown",
   "id": "superb-marks",
   "metadata": {},
   "source": [
    "##  Seventeenth step: "
   ]
  },
  {
   "cell_type": "code",
   "execution_count": 35,
   "id": "convertible-psychology",
   "metadata": {},
   "outputs": [
    {
     "name": "stdout",
     "output_type": "stream",
     "text": [
      "Event numbers are: [ 1  2  3  5  7 20]\n"
     ]
    }
   ],
   "source": [
    "data = xr.open_dataset(your_path+'/output_TRACEX_unit_test/events_chunk_2_loop_log_14_for_TRACEX_unit_test.nc').events.values\n",
    "print('Event numbers are: {}'.format(np.unique(data)[np.unique(data)>0]))\n",
    "data = np.where(data==0,np.nan,data)"
   ]
  },
  {
   "cell_type": "code",
   "execution_count": 36,
   "id": "proprietary-blake",
   "metadata": {},
   "outputs": [
    {
     "data": {
      "image/png": "[encoded data removed]",
      "text/plain": [
       "<Figure size 1080x432 with 1 Axes>"
      ]
     },
     "metadata": {
      "needs_background": "light"
     },
     "output_type": "display_data"
    }
   ],
   "source": [
    "f = plt.figure(figsize=(15,6))\n",
    "plt.imshow(data, interpolation='none', cmap='tab10')\n",
    "plt.hlines(-0.4,-0.5,65.5,'red')\n",
    "plt.ylabel('Time [days]',fontsize=15)\n",
    "plt.xlabel('X-dimension',fontsize=15)\n",
    "plt.tick_params(labelsize=13)\n",
    "plt.yticks(ticks=np.arange(0,array_test.shape[0]/2,1),labels=np.arange(array_test.shape[0]/2,array_test.shape[0],1).astype('int'))\n",
    "plt.show()"
   ]
  },
  {
   "cell_type": "markdown",
   "id": "joint-bennett",
   "metadata": {},
   "source": [
    "Event 19 that was only linked to 8 has been forwarded to 3 and added to 3."
   ]
  },
  {
   "cell_type": "markdown",
   "id": "faced-delight",
   "metadata": {},
   "source": [
    "##  Eighteenth step: "
   ]
  },
  {
   "cell_type": "code",
   "execution_count": 37,
   "id": "dying-saskatchewan",
   "metadata": {},
   "outputs": [
    {
     "name": "stdout",
     "output_type": "stream",
     "text": [
      "Event numbers are: [1 2 3 5 7]\n"
     ]
    }
   ],
   "source": [
    "data = xr.open_dataset(your_path+'/output_TRACEX_unit_test/events_chunk_2_loop_log_15_for_TRACEX_unit_test.nc').events.values\n",
    "print('Event numbers are: {}'.format(np.unique(data)[np.unique(data)>0]))\n",
    "data = np.where(data==0,np.nan,data)"
   ]
  },
  {
   "cell_type": "code",
   "execution_count": 38,
   "id": "nutritional-island",
   "metadata": {},
   "outputs": [
    {
     "data": {
      "image/png": "[encoded data removed]",
      "text/plain": [
       "<Figure size 1080x432 with 1 Axes>"
      ]
     },
     "metadata": {
      "needs_background": "light"
     },
     "output_type": "display_data"
    }
   ],
   "source": [
    "f = plt.figure(figsize=(15,6))\n",
    "plt.imshow(data, interpolation='none', cmap='tab10')\n",
    "plt.hlines(-0.4,-0.5,65.5,'red')\n",
    "plt.ylabel('Time [days]',fontsize=15)\n",
    "plt.xlabel('X-dimension',fontsize=15)\n",
    "plt.tick_params(labelsize=13)\n",
    "plt.yticks(ticks=np.arange(0,array_test.shape[0]/2,1),labels=np.arange(array_test.shape[0]/2,array_test.shape[0],1).astype('int'))\n",
    "plt.show()"
   ]
  },
  {
   "cell_type": "markdown",
   "id": "comprehensive-skirt",
   "metadata": {},
   "source": [
    "Same for event 20. "
   ]
  },
  {
   "cell_type": "markdown",
   "id": "qualified-provincial",
   "metadata": {},
   "source": [
    "This results in only 5 independent events over the two chunks as expected. This unit test was done in 2D but the same method is used for the 4D identification. "
   ]
  }
 ],
 "metadata": {
  "kernelspec": {
   "display_name": "Python 3",
   "language": "python",
   "name": "python3"
  },
  "language_info": {
   "codemirror_mode": {
    "name": "ipython",
    "version": 3
   },
   "file_extension": ".py",
   "mimetype": "text/x-python",
   "name": "python",
   "nbconvert_exporter": "python",
   "pygments_lexer": "ipython3",
   "version": "3.6.11"
  }
 },
 "nbformat": 4,
 "nbformat_minor": 5
}
